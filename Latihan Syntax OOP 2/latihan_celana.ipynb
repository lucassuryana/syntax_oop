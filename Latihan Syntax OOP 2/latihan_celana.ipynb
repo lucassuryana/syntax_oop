{
 "cells": [
  {
   "cell_type": "markdown",
   "metadata": {},
   "source": [
    "# Latihan Syntax OOP 2\n",
    "\n",
    "Selamat! Sekarang Anda sudah berlatih bagaimana menginstantiasi sebuah object, sekarang waktunya menulis class Anda sendiri dari awal. Latihan ini terdiri dari dua bagian. Di bagian pertama, Anda akan menulis Celana class lalu Anda akan berlatih menginstantiasi objects dari Celana class.\n",
    "\n",
    "Di bagian kedua, Anda akan berlatih dengan membuat class lain bernama Pramuniaga. Sama seperti sebelumnya, Anda juga akan berlatih menginstantiasi objects dari Pramuniaga class. Bedanya, Anda akan diminta untuk memasukkan objects dari Celana class yang sudah diinisasi ke dalam method dari class baru. Hal ini akan memperlihatkan interaksi yang bisa dilakukan antara dua class yang berbeda.\n",
    "\n",
    "Jawaban dari latihan ini bisa diakses di dalam file bernama jawaban_latihan_celana.py yang berada di dalam folder yang sama dengan file latihan_celana.ipynb."
   ]
  },
  {
   "cell_type": "markdown",
   "metadata": {},
   "source": [
    "# Celana class\n",
    "\n",
    "Tuliskan sebuah Celana class dengan karakteristik sebagai berikut:\n",
    "* Class name harus Celana\n",
    "* Class attributes harus mencakup:\n",
    "    * warna\n",
    "    * ukuran_pinggang\n",
    "    * panjang\n",
    "    * harga\n",
    "* Class harus memiliki init function yang akan menginisialisasi semua attributes\n",
    "* Class harus memiliki dua buah method:\n",
    "    * ganti_harga(), sebuah method untuk mengganti harga attribute\n",
    "    * korting(), sebuah method untuk menghitung potongan harga"
   ]
  },
  {
   "cell_type": "code",
   "execution_count": null,
   "metadata": {},
   "outputs": [
    {
     "ename": "",
     "evalue": "",
     "output_type": "error",
     "traceback": [
      "\u001b[1;31mRunning cells with 'Python 3.9.6 64-bit' requires ipykernel package.\n",
      "Run the following command to install 'ipykernel' into the Python environment. \n",
      "Command: '/usr/bin/python3 -m pip install ipykernel -U --user --force-reinstall'"
     ]
    }
   ],
   "source": [
    "### TODO:\n",
    "#   - Tulis kode Celana class dengan attributes sebagai berikut:\n",
    "    #   - warna (string) contoh: 'merah', 'kuning', 'hijau'\n",
    "    #   - ukuran_pinggang (integer) contoh: 8, 10, 32, 34\n",
    "    #   - panjang (integer) contoh: 27, 28, 29, 30, 31\n",
    "    #   - harga (integer) contoh: 90000, 120000\n",
    "\n",
    "### TODO: Deklarasikan Celana Class \n",
    "\n",
    "### TODO: Tulis sebuah __init__ function untuk menginisialisasi semua attributes\n",
    "\n",
    "### TODO: Tulis ganti_harga method:\n",
    "#    Args:\n",
    "#        harga_baru (float): harga baru celana\n",
    "#    Returns:\n",
    "#        None\n",
    "\n",
    "### TODO: Tulis korting method:\n",
    "#    Args:\n",
    "#        persentase (float): nilai desimal untuk korting\n",
    "#                    Contoh: 0.05 adalah korting sebesar 5%\n",
    "#    Returns:\n",
    "#        float: harga yang sudah dikorting"
   ]
  },
  {
   "cell_type": "markdown",
   "metadata": {},
   "source": [
    "# Jalankan kode di bawah untuk mengecek jawaban Anda\n",
    "\n",
    "Jika Anda menjalankan kode dari cell di bawah ini dan mendapatkan error, maka revisi kode Anda sampai kode di bawah tidak mengeluarkan output error."
   ]
  },
  {
   "cell_type": "code",
   "execution_count": null,
   "metadata": {},
   "outputs": [
    {
     "ename": "",
     "evalue": "",
     "output_type": "error",
     "traceback": [
      "\u001b[1;31mRunning cells with 'Python 3.9.6 64-bit' requires ipykernel package.\n",
      "Run the following command to install 'ipykernel' into the Python environment. \n",
      "Command: '/usr/bin/python3 -m pip install ipykernel -U --user --force-reinstall'"
     ]
    }
   ],
   "source": [
    "def cek_hasil():\n",
    "    Celana = Celana('merah', 35, 36, 120000)\n",
    "    assert Celana.warna == 'mearh'\n",
    "    assert Celana.ukuran_pinggang == 35\n",
    "    assert Celana.panjang == 36\n",
    "    assert Celana.harga == 120000\n",
    "    \n",
    "    Celana.ganti_harga(100000) == 100000\n",
    "    assert Celana.harga == 100000 \n",
    "    \n",
    "    assert Celana.korting(.1) == 90000\n",
    "    \n",
    "    print('Selamat, kode Anda sudah benar. Good job!')\n",
    "\n",
    "cek_hasil()"
   ]
  },
  {
   "cell_type": "markdown",
   "metadata": {},
   "source": [
    "# Pramuniaga class\n",
    "\n",
    "Celana class dan Shirt class dari tugas sebelumnya cukup mirip. Sekarang, Anda akan berlatih untuk menulis sebuah class secara lebih kompleks.\n",
    "\n",
    "Tulis sebuah Pramuniaga class dengan characteristics sebagai berikut:\n",
    "* Class name harus Pramuniaga\n",
    "* Class attributes harus mencakup:\n",
    "    * nama_depan\n",
    "    * nama_keluarga\n",
    "    * kode_pekerja\n",
    "    * gaji\n",
    "    * celana_terjual\n",
    "    * total_penjualan\n",
    "* Class harus memiliki init function yang akan menginisialisasi semua attributes\n",
    "* Class harus memiliki empat buah method:\n",
    "    * jual_celana(), sebuah method untuk mengganti celana_terjual attributes\n",
    "    * kalkulasi_penjualan(), sebuah method untuk kalkulasi penjualan\n",
    "    * tampilkan_penjualan(), sebuah method untuk mencetak semua celana yang terjual dengan format tertentu\n",
    "    * kalkulasi_komisi(), sebuah metode untuk mengkalkulasi komisi yang diberikan kepada Pramuniaga berdasarkan total penjualan"
   ]
  },
  {
   "cell_type": "code",
   "execution_count": null,
   "metadata": {},
   "outputs": [
    {
     "ename": "",
     "evalue": "",
     "output_type": "error",
     "traceback": [
      "\u001b[1;31mRunning cells with 'Python 3.9.6 64-bit' requires ipykernel package.\n",
      "Run the following command to install 'ipykernel' into the Python environment. \n",
      "Command: '/usr/bin/python3 -m pip install ipykernel -U --user --force-reinstall'"
     ]
    }
   ],
   "source": [
    "### TODO:\n",
    "#   Tulis kode Pramuniaga class dengan attributes sebagai berikut:\n",
    "#   - nama_depan (string), nama depan dari Pramuniaga\n",
    "#   - nama_keluarga (string), nama keluarga dari Pramuniaga\n",
    "#   - kode_pekerja (int), kode pekerja Pramuniaga misalnya 101223\n",
    "#   - gaji (int), gaji bulanan dari Pramuniaga\n",
    "#   - celana_terjual (list Celana objects), \n",
    "#            Celana yang berhasil terjual oleh Pramuniaga \n",
    "#   - total_penjualan (float), total penjualan dari celana terjual\n",
    "\n",
    "### TODO: Deklarasikan Pramuniaga Class \n",
    "\n",
    "### TODO: Tulis __init__ function untuk menginisiasi semua attributes\n",
    "###    Input Args untuk __init__ function:\n",
    "#        nama_depan (str)\n",
    "#        nama_keluarga (str)\n",
    "#        kode_pekerja (int)\n",
    "#        gaji (int)\n",
    "#\n",
    "# Anda dapat menginisiasi celana_terjual sebagai sebuah list kosong\n",
    "# Anda dapat menginisiasi total_penjualan dengan angka nol\n",
    "#\n",
    "###\n",
    "\n",
    "### TODO: Tulis jual_celana method:\n",
    "#\n",
    "#    Method ini akan menerima Celana object dan menambahkan (append)\n",
    "#    object tersebut ke dalam celana_terjual attribute list\n",
    "#\n",
    "#    Args:\n",
    "#        Celana (Celana object)\n",
    "#    Returns:\n",
    "#        None\n",
    "\n",
    "### TODO: Tulis tampilkan_penjualan method:\n",
    "#    \n",
    "#    Method ini tidak memiliki input ataupun output. Ketika method ini\n",
    "#    dipanggil, kode akan melakukan iterasi disepanjang celana_terjual\n",
    "#    list dan mencetak semua attributes dari setiap pasang celana baris\n",
    "#    demi baris. Tampilan yang dicetak harus seperti di bawah ini:   \n",
    "#\n",
    "#    warna: biru, ukuran_pinggang: 34, panjang: 34, harga: 1000000\n",
    "#    warna: merah, ukuran_pinggang: 36, panjang: 30, harga: 3000000\n",
    "#\n",
    "#\n",
    "#\n",
    "###\n",
    "\n",
    "### TODO: Tulis kalkulasi_penjualan method:\n",
    "#      \n",
    "#      Method ini akan menkalkulasi total penjualan dari Pramuniaga.\n",
    "#      Method ini akan melakukan iterasi disepanjang celana_terjual\n",
    "#      list dan menjumlahkan parga dari celana terjual. Hasil penjumlahan\n",
    "#      harus dimasukkan ke dalam total_penjualan attribute lalu return\n",
    "#      total penjualan.\n",
    "#      \n",
    "#      Args:\n",
    "#        None\n",
    "#      Returns:\n",
    "#        float: total sales\n",
    "#\n",
    "###  \n",
    "\n",
    "\n",
    "### TODO: Tulis kalkulasi_komisi method:\n",
    "#\n",
    "#      Pramuniaga mendapatkan komisi berdasarkan total penjualan Celana.\n",
    "#      Method ini akan menerima input berupa persen komisi, lalu menghitung\n",
    "#      total penjualan Celana berdasarkan harga lalu return komisi\n",
    "#      sebagai (persen komisi * total penjualan)\n",
    "#\n",
    "#    Args:\n",
    "#        persen (float): persen komisi sebagai angka desimal\n",
    "#\n",
    "#    Returns:\n",
    "#        float: total komisi\n",
    "#\n",
    "#\n",
    "###"
   ]
  },
  {
   "cell_type": "markdown",
   "metadata": {},
   "source": [
    "# Jalankan kode di bawah untuk mengecek jawaban Anda\n",
    "\n",
    "Jika Anda menjalankan kode dari cell di bawah ini dan mendapatkan error, maka revisi kode Anda sampai kode di bawah tidak mengeluarkan output error."
   ]
  },
  {
   "cell_type": "code",
   "execution_count": null,
   "metadata": {},
   "outputs": [],
   "source": [
    "def cek_hasil():\n",
    "    Celana_satu = Celana('Merah', 35, 36, 150000)\n",
    "    Celana_dua = Celana('Biru', 40, 38, 240000)\n",
    "    Celana_tiga = Celana('Kuning', 28, 30, 80000)\n",
    "    \n",
    "    Pramuniaga = Pramuniaga('Budi', 'Wijaya', 2581923, 40000)\n",
    "    \n",
    "    assert Pramuniaga.nama_depan == 'Budi'\n",
    "    assert Pramuniaga.nama_keluarga == 'Wijaya'\n",
    "    assert Pramuniaga.kode_pekerja == 2581923\n",
    "    assert Pramuniaga.gaji == 4200000\n",
    "    assert Pramuniaga.celana_terjual == []\n",
    "    assert Pramuniaga.total_penjualan == 0\n",
    "    \n",
    "    Pramuniaga.jual_celana(Celana_satu)\n",
    "    Pramuniaga.celana_terjual[0] == Celana_satu.warna\n",
    "    \n",
    "    Pramuniaga.jual_celana(Celana_dua)\n",
    "    Pramuniaga.jual_celana(Celana_tiga)\n",
    "    \n",
    "    assert len(Pramuniaga.celana_terjual) == 3\n",
    "    assert Pramuniaga.kalkulasi_penjualan() == 470000\n",
    "    assert Pramuniaga.kalkulasi_komisi(.1) == 47000\n",
    "    \n",
    "    print('Selamat, kode Anda sudah benar. Good job!')\n",
    "    \n",
    "cek_hasil()"
   ]
  },
  {
   "cell_type": "markdown",
   "metadata": {},
   "source": [
    "### Cek tampilkan_penjualan() method\n",
    "\n",
    "Jika Anda menjalankan kode di bawah ini, Anda seharusnya mendapatkan output serupa:\n",
    "\n",
    "```python\n",
    "warna: merah, ukuran_pinggang: 35, panjang: 36, harga: 150000\n",
    "warna: biru, ukuran_pinggang: 40, panjang: 38, harga: 240000\n",
    "warna: kuning, ukuran_pinggang: 28, panjang: 30, harga: 80000\n",
    "```"
   ]
  },
  {
   "cell_type": "code",
   "execution_count": null,
   "metadata": {},
   "outputs": [],
   "source": [
    "Celana_satu = Celana('Merah', 35, 36, 150000)\n",
    "Celana_dua = Celana('Biru', 40, 38, 240000)\n",
    "Celana_tiga = Celana('Kuning', 28, 30, 80000)\n",
    "\n",
    "Pramuniaga = Pramuniaga('Budi', 'Wijaya', 2581923, 4200000)\n",
    "\n",
    "Pramuniaga.jual_celana(Celana_satu)    \n",
    "Pramuniaga.jual_celana(Celana_dua)\n",
    "Pramuniaga.jual_celana(Celana_tiga)\n",
    "\n",
    "Pramuniaga.tampilkan_penjualan()"
   ]
  }
 ],
 "metadata": {
  "kernelspec": {
   "display_name": "Python 3.9.6 64-bit",
   "language": "python",
   "name": "python3"
  },
  "language_info": {
   "codemirror_mode": {
    "name": "ipython",
    "version": 3
   },
   "file_extension": ".py",
   "mimetype": "text/x-python",
   "name": "python",
   "nbconvert_exporter": "python",
   "pygments_lexer": "ipython3",
   "version": "3.9.6"
  },
  "vscode": {
   "interpreter": {
    "hash": "31f2aee4e71d21fbe5cf8b01ff0e069b9275f58929596ceb00d14d90e3e16cd6"
   }
  }
 },
 "nbformat": 4,
 "nbformat_minor": 2
}
