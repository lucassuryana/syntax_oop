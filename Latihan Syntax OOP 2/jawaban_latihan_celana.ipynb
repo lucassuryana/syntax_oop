{
 "cells": [
  {
   "cell_type": "markdown",
   "metadata": {},
   "source": [
    "# Latihan Syntax OOP 2\n",
    "\n",
    "Selamat! Sekarang Anda sudah berlatih bagaimana menginstantiasi sebuah object, sekarang waktunya menulis class Anda sendiri dari awal. Latihan ini terdiri dari dua bagian. Di bagian pertama, Anda akan menulis Celana class lalu Anda akan berlatih menginstantiasi objects dari Celana class.\n",
    "\n",
    "Di bagian kedua, Anda akan berlatih dengan membuat class lain bernama Pramuniaga. Sama seperti sebelumnya, Anda juga akan berlatih menginstantiasi objects dari Pramuniaga class. Bedanya, Anda akan diminta untuk memasukkan objects dari Celana class yang sudah diinisasi ke dalam method dari class baru. Hal ini akan memperlihatkan interaksi yang bisa dilakukan antara dua class yang berbeda.\n",
    "\n",
    "Jawaban dari latihan ini bisa diakses di dalam file bernama jawaban_latihan_celana.py yang berada di dalam folder yang sama dengan file latihan_celana.ipynb."
   ]
  },
  {
   "cell_type": "markdown",
   "metadata": {},
   "source": [
    "# Celana class\n",
    "\n",
    "Tuliskan sebuah Celana class dengan karakteristik sebagai berikut:\n",
    "* Class name harus Celana\n",
    "* Class attributes harus mencakup:\n",
    "    * warna\n",
    "    * ukuran_pinggang\n",
    "    * panjang\n",
    "    * harga\n",
    "* Class harus memiliki init function yang akan menginisialisasi semua attributes\n",
    "* Class harus memiliki dua buah method:\n",
    "    * ganti_harga(), sebuah method untuk mengganti harga attribute\n",
    "    * korting(), sebuah method untuk menghitung potongan harga"
   ]
  },
  {
   "cell_type": "code",
   "execution_count": 1,
   "metadata": {},
   "outputs": [],
   "source": [
    "class Celana:\n",
    "    \"\"\" Celana class merepresentasikan item pakaian yang dijual di toko\n",
    "    \"\"\"\n",
    "    \n",
    "    def __init__(self, warna, ukuran_pinggang, panjang, harga):\n",
    "        \"\"\"Method untuk inisialisasi sebuah Celana object\n",
    "    \n",
    "        Args: \n",
    "            warna (str)\n",
    "            ukuran_pinggang (int)\n",
    "            panjang (int)\n",
    "            harga (float)\n",
    "            \n",
    "        Attributes:\n",
    "            warna (str): warna dari Celana object\n",
    "            ukuran_pinggang (str): ukuran pinggang dari Celana object\n",
    "            panjang (str): panjang dari Celana object\n",
    "            harga (float): harga dari Celana object\n",
    "        \"\"\"\n",
    "            \n",
    "        self.warna = warna\n",
    "        self.ukuran_pinggang = ukuran_pinggang\n",
    "        self.panjang = panjang\n",
    "        self.harga = harga\n",
    "    \n",
    "    def ganti_harga(self, harga_baru):\n",
    "        \"\"\"ganti_harga method mengganti harga attribute dari Celana object\n",
    "    \n",
    "        Args: \n",
    "            harga_baru (float): harga baru dari Celana object\n",
    "            \n",
    "        Returns: None\n",
    "        \n",
    "        \"\"\"\n",
    "        self.harga = harga_baru\n",
    "    \n",
    "    def korting(self, persentase):\n",
    "        \"\"\"korting method menghasilkan harga terkorting dari Celana object\n",
    "\n",
    "        Args:\n",
    "            persentase (float): sebuah desimal yang merepresentasikan jumlah korting\n",
    "\n",
    "        Returns:\n",
    "            float: harga terkorting\n",
    "        \"\"\"\n",
    "        return self.harga * (1 - persentase)"
   ]
  },
  {
   "cell_type": "markdown",
   "metadata": {},
   "source": [
    "# Jalankan kode di bawah untuk mengecek jawaban Anda\n",
    "\n",
    "Jika Anda menjalankan kode dari cell di bawah ini dan mendapatkan error, maka revisi kode Anda sampai kode di bawah tidak mengeluarkan output error."
   ]
  },
  {
   "cell_type": "code",
   "execution_count": 4,
   "metadata": {},
   "outputs": [
    {
     "name": "stdout",
     "output_type": "stream",
     "text": [
      "Selamat, kode Anda sudah benar. Good job!\n"
     ]
    }
   ],
   "source": [
    "def cek_hasil():\n",
    "    celana = Celana('merah', 35, 36, 120000)\n",
    "    assert celana.warna == 'merah'\n",
    "    assert celana.ukuran_pinggang == 35\n",
    "    assert celana.panjang == 36\n",
    "    assert celana.harga == 120000\n",
    "    \n",
    "    celana.ganti_harga(100000) == 100000\n",
    "    assert celana.harga == 100000 \n",
    "    \n",
    "    assert celana.korting(.1) == 90000\n",
    "    \n",
    "    print('Selamat, kode Anda sudah benar. Good job!')\n",
    "\n",
    "cek_hasil()"
   ]
  },
  {
   "cell_type": "markdown",
   "metadata": {},
   "source": [
    "# Pramuniaga class\n",
    "\n",
    "Celana class dan Shirt class dari tugas sebelumnya cukup mirip. Sekarang, Anda akan berlatih untuk menulis sebuah class secara lebih kompleks.\n",
    "\n",
    "Tulis sebuah Pramuniaga class dengan characteristics sebagai berikut:\n",
    "* Class name harus Pramuniaga\n",
    "* Class attributes harus mencakup:\n",
    "    * nama_depan\n",
    "    * nama_keluarga\n",
    "    * kode_pekerja\n",
    "    * gaji\n",
    "    * celana_terjual\n",
    "    * total_penjualan\n",
    "* Class harus memiliki init function yang akan menginisialisasi semua attributes\n",
    "* Class harus memiliki empat buah method:\n",
    "    * jual_celana(), sebuah method untuk mengganti celana_terjual attributes\n",
    "    * kalkulasi_penjualan(), sebuah method untuk kalkulasi penjualan\n",
    "    * tampilkan_penjualan(), sebuah method untuk mencetak semua celana yang terjual dengan format tertentu\n",
    "    * kalkulasi_komisi(), sebuah metode untuk mengkalkulasi komisi yang diberikan kepada Pramuniaga berdasarkan total penjualan"
   ]
  },
  {
   "cell_type": "code",
   "execution_count": 5,
   "metadata": {},
   "outputs": [],
   "source": [
    "class Pramuniaga:\n",
    "    \"\"\"Pramuniaga class merepresentasikan pekerja di toko\n",
    "    \"\"\"\n",
    "\n",
    "    def __init__(self, nama_depan, nama_keluarga, kode_pekerja, gaji):\n",
    "        \"\"\"Method untuk inisialisasi Pramuniaga object\n",
    "        \n",
    "        Args: \n",
    "            nama_depan (str)\n",
    "            nama_keluarga (str)\n",
    "            kode_pekerja (int)\n",
    "            gaji (float)\n",
    "\n",
    "        Attributes:\n",
    "            nama_depan (string), nama depan dari Pramuniaga\n",
    "            nama_keluarga (string), nama keluarga dari Pramuniaga\n",
    "            kode_pekerja (int), kode pekerja Pramuniaga misalnya 101223\n",
    "            gaji (int), gaji bulanan dari Pramuniaga\n",
    "            celana_terjual (list Celana objects), \n",
    "                Celana yang berhasil terjual oleh Pramuniaga \n",
    "            total_penjualan (float), total penjualan dari celana terjual  \n",
    "\n",
    "        \"\"\"\n",
    "        self.nama_depan = nama_depan\n",
    "        self.nama_keluarga = nama_keluarga\n",
    "        self.kode_pekerja = kode_pekerja\n",
    "        self.gaji = gaji\n",
    "        self.celana_terjual = []\n",
    "        self.total_penjualan = 0\n",
    "\n",
    "    def jual_celana(self, Celana_object):\n",
    "        \"\"\"jual_celana method menambahkan (append) object tersebut ke dalam celana_terjual attribute list\n",
    "\n",
    "        Args: \n",
    "            Celana_object (obj): Celana object terjual\n",
    "\n",
    "        Returns: None\n",
    "\n",
    "        \"\"\"\n",
    "\n",
    "        self.celana_terjual.append(Celana_object)\n",
    "\n",
    "    def tampilkan_penjualan(self):\n",
    "        \"\"\"tampilkan_penjualan method mencetak semua attributes dari setiap pasang celana terjual\n",
    "\n",
    "        Args: None\n",
    "\n",
    "        Returns: None\n",
    "\n",
    "        \"\"\"\n",
    "\n",
    "        for Celana in self.celana_terjual:\n",
    "            print('warna: {}, ukuran_pinggang: {}, panjang: {}, harga: {}'\\\n",
    "                  .format(Celana.warna, Celana.ukuran_pinggang, Celana.panjang, Celana.harga))\n",
    "    \n",
    "    def kalkulasi_penjualan(self):\n",
    "        \"\"\"kalkulasi_penjualan method menjumlahkan total harga dari semua pasang celana terjual\n",
    "\n",
    "        Args: None\n",
    "\n",
    "        Returns:\n",
    "            float: total harga untuk semua celana terjual\n",
    "        \n",
    "        \"\"\"\n",
    "\n",
    "        total = 0\n",
    "        for Celana in self.celana_terjual:\n",
    "            total += Celana.harga\n",
    "            \n",
    "        self.total_sales = total\n",
    "        \n",
    "        return total\n",
    "    \n",
    "    def kalkulasi_komisi(self, persentase):\n",
    "        \"\"\"kalkulasi_komisi method mengeluarkan output berupa komisi berdasarkan penjualan\n",
    "\n",
    "        Args:\n",
    "            persentase (float): persentase komisi sebagai bilangan desimal\n",
    "\n",
    "        Returns:\n",
    "            float: komisi yang diperoleh\n",
    "        \"\"\"\n",
    "\n",
    "        sales_total = self.kalkulasi_penjualan()\n",
    "        return sales_total * persentase "
   ]
  },
  {
   "cell_type": "markdown",
   "metadata": {},
   "source": [
    "# Jalankan kode di bawah untuk mengecek jawaban Anda\n",
    "\n",
    "Jika Anda menjalankan kode dari cell di bawah ini dan mendapatkan error, maka revisi kode Anda sampai kode di bawah tidak mengeluarkan output error."
   ]
  },
  {
   "cell_type": "code",
   "execution_count": 8,
   "metadata": {},
   "outputs": [
    {
     "name": "stdout",
     "output_type": "stream",
     "text": [
      "Selamat, kode Anda sudah benar. Good job!\n"
     ]
    }
   ],
   "source": [
    "def cek_hasil():\n",
    "    celana_satu = Celana('Merah', 35, 36, 150000)\n",
    "    celana_dua = Celana('Biru', 40, 38, 240000)\n",
    "    celana_tiga = Celana('Kuning', 28, 30, 80000)\n",
    "    \n",
    "    pramuniaga = Pramuniaga('Budi', 'Wijaya', 2581923, 4200000)\n",
    "    \n",
    "    assert pramuniaga.nama_depan == 'Budi'\n",
    "    assert pramuniaga.nama_keluarga == 'Wijaya'\n",
    "    assert pramuniaga.kode_pekerja == 2581923\n",
    "    assert pramuniaga.gaji == 4200000\n",
    "    assert pramuniaga.celana_terjual == []\n",
    "    assert pramuniaga.total_penjualan == 0\n",
    "    \n",
    "    pramuniaga.jual_celana(celana_satu)\n",
    "    pramuniaga.celana_terjual[0] == celana_satu.warna\n",
    "    \n",
    "    pramuniaga.jual_celana(celana_dua)\n",
    "    pramuniaga.jual_celana(celana_tiga)\n",
    "    \n",
    "    assert len(pramuniaga.celana_terjual) == 3\n",
    "    assert pramuniaga.kalkulasi_penjualan() == 470000\n",
    "    assert pramuniaga.kalkulasi_komisi(.1) == 47000\n",
    "    \n",
    "    print('Selamat, kode Anda sudah benar. Good job!')\n",
    "    \n",
    "cek_hasil()"
   ]
  },
  {
   "cell_type": "markdown",
   "metadata": {},
   "source": [
    "### Cek tampilkan_penjualan() method\n",
    "\n",
    "Jika Anda menjalankan kode di bawah ini, Anda seharusnya mendapatkan output serupa:\n",
    "\n",
    "```python\n",
    "warna: merah, ukuran_pinggang: 35, panjang: 36, harga: 150000\n",
    "warna: biru, ukuran_pinggang: 40, panjang: 38, harga: 240000\n",
    "warna: kuning, ukuran_pinggang: 28, panjang: 30, harga: 80000\n",
    "```"
   ]
  },
  {
   "cell_type": "code",
   "execution_count": 9,
   "metadata": {},
   "outputs": [
    {
     "name": "stdout",
     "output_type": "stream",
     "text": [
      "warna: Merah, ukuran_pinggang: 35, panjang: 36, harga: 150000\n",
      "warna: Biru, ukuran_pinggang: 40, panjang: 38, harga: 240000\n",
      "warna: Kuning, ukuran_pinggang: 28, panjang: 30, harga: 80000\n"
     ]
    }
   ],
   "source": [
    "celana_satu = Celana('Merah', 35, 36, 150000)\n",
    "celana_dua = Celana('Biru', 40, 38, 240000)\n",
    "celana_tiga = Celana('Kuning', 28, 30, 80000)\n",
    "\n",
    "Pramuniaga = Pramuniaga('Budi', 'Wijaya', 2581923, 4200000)\n",
    "\n",
    "Pramuniaga.jual_celana(celana_satu)    \n",
    "Pramuniaga.jual_celana(celana_dua)\n",
    "Pramuniaga.jual_celana(celana_tiga)\n",
    "\n",
    "Pramuniaga.tampilkan_penjualan()"
   ]
  },
  {
   "cell_type": "code",
   "execution_count": null,
   "metadata": {},
   "outputs": [],
   "source": []
  }
 ],
 "metadata": {
  "kernelspec": {
   "display_name": "Python 3.9.12",
   "language": "python",
   "name": "python3"
  },
  "language_info": {
   "codemirror_mode": {
    "name": "ipython",
    "version": 3
   },
   "file_extension": ".py",
   "mimetype": "text/x-python",
   "name": "python",
   "nbconvert_exporter": "python",
   "pygments_lexer": "ipython3",
   "version": "3.9.12"
  },
  "vscode": {
   "interpreter": {
    "hash": "942f701b2df79ca4a1aae4324dbf019e14a586254b6da93e38e747ff79b81825"
   }
  }
 },
 "nbformat": 4,
 "nbformat_minor": 2
}
