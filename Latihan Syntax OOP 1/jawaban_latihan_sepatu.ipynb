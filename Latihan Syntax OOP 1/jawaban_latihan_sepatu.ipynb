{
 "cells": [
  {
   "cell_type": "markdown",
   "metadata": {},
   "source": [
    "# Jawaban Latihan Syntax OOP 1"
   ]
  },
  {
   "cell_type": "code",
   "execution_count": 1,
   "metadata": {},
   "outputs": [],
   "source": [
    "class Sepatu:\n",
    "\n",
    "    def __init__(self, warna_sepatu, ukuran_sepatu, merk_sepatu, harga_sepatu):\n",
    "        self.warna = warna_sepatu\n",
    "        self.ukuran = ukuran_sepatu\n",
    "        self.merk = merk_sepatu\n",
    "        self.harga = harga_sepatu\n",
    "    \n",
    "    def change_harga(self, new_harga):\n",
    "    \n",
    "        self.harga = new_harga\n",
    "        \n",
    "    def discount(self, discount):\n",
    "\n",
    "        return self.harga * (1 - discount)"
   ]
  },
  {
   "cell_type": "code",
   "execution_count": 2,
   "metadata": {},
   "outputs": [],
   "source": [
    "### TODO:\n",
    "#    - Inisasi sebuah object sepatu dengan attributes sebagai berikut:\n",
    "#       - warna merah, ukuran 42, merk Adidas, dan harga 800000\n",
    "#    - simpan object yang dibuat di dalam sebuah variable bernama sepatu_satu\n",
    "#\n",
    "#\n",
    "###\n",
    "sepatu_satu = Sepatu('merah', 42, 'Adidas', 800000)"
   ]
  },
  {
   "cell_type": "code",
   "execution_count": 3,
   "metadata": {},
   "outputs": [
    {
     "name": "stdout",
     "output_type": "stream",
     "text": [
      "800000\n",
      "700000\n",
      "560000.0\n"
     ]
    }
   ],
   "source": [
    "### TODO:\n",
    "#     - print harga dari object Sepatu dengan menggunakan harga attributes\n",
    "#     - gunakan method change_harga untuk mengganti harga sepatu menjadi 700000\n",
    "#     - print harga (harga) sepatu yang baru dengan menggunakan harga attributes\n",
    "#     - gunakan method discount untuk print harga sepatu jika diberi diskon 20%\n",
    "#\n",
    "###\n",
    "print(sepatu_satu.harga)\n",
    "sepatu_satu.change_harga(700000)\n",
    "print(sepatu_satu.harga)\n",
    "print(sepatu_satu.discount(.2))\n"
   ]
  },
  {
   "cell_type": "code",
   "execution_count": 4,
   "metadata": {},
   "outputs": [],
   "source": [
    "### TODO:\n",
    "#    - inisialisasi object lain dengan karakteristik sebagai berikut:\n",
    "#       - color biru, size 41, style Nike, dan harga 60\n",
    "#    - simpan object yang dibuat di dalam sebuah variable bernama sepatu_dua\n",
    "#\n",
    "###\n",
    "sepatu_dua = Sepatu('biru', 41, 'Nike', 600000)"
   ]
  },
  {
   "cell_type": "code",
   "execution_count": 5,
   "metadata": {},
   "outputs": [],
   "source": [
    "### TODO:\n",
    "#    - hitung total harga dari shoes_one dan shoes_two\n",
    "#    - simpan hasil penjumlahan keduanya di dalam sebuah variabel bernama total\n",
    "#    \n",
    "###\n",
    "total = sepatu_satu.harga + sepatu_dua.harga"
   ]
  },
  {
   "cell_type": "code",
   "execution_count": 6,
   "metadata": {},
   "outputs": [],
   "source": [
    "### TODO:\n",
    "#    - gunakan method discount di dalam object Sepatu untuk menghitung total harga jika\n",
    "#       shoes_one memiliki diskon 10% dan shoes_two memiliki diskon 10%\n",
    "#    - simpan hasilnya di dalam sebuah variabel bernama total_discount\n",
    "###\n",
    "total_discount =  sepatu_satu.discount(.1) + sepatu_dua.discount(.1) "
   ]
  },
  {
   "cell_type": "markdown",
   "metadata": {},
   "source": [
    "# Test kode Anda\n",
    "\n",
    "Kode di bawah ini digunakan untuk menguji kode yang sudah Anda buat. Sebelum menjalankan run_tests(), ada sebuah package yang perlu diimport bernama tests. Package ini merupakan sebuah file bernama tests.py yang berisikan sebuah function bernama run_tests(). Function ini akan mengeksekusi sekumpulan pernyataan assert untuk mengecek pekerjaan Anda. Jika hasil pekerjaan Anda sudah benar maka tidak akan muncul pesan error. Jika masih ada, berarti jawaban Anda masih ada yang salah. Perbaiki sampai tidak ada error lagi yang muncul."
   ]
  },
  {
   "cell_type": "code",
   "execution_count": 7,
   "metadata": {},
   "outputs": [],
   "source": [
    "# Unit tests to check your solution\n",
    "from tests import run_tests\n",
    "\n",
    "run_tests(sepatu_satu, sepatu_dua, total, total_discount)"
   ]
  }
 ],
 "metadata": {
  "kernelspec": {
   "display_name": "Python 3.9.12",
   "language": "python",
   "name": "python3"
  },
  "language_info": {
   "codemirror_mode": {
    "name": "ipython",
    "version": 3
   },
   "file_extension": ".py",
   "mimetype": "text/x-python",
   "name": "python",
   "nbconvert_exporter": "python",
   "pygments_lexer": "ipython3",
   "version": "3.9.12"
  },
  "vscode": {
   "interpreter": {
    "hash": "942f701b2df79ca4a1aae4324dbf019e14a586254b6da93e38e747ff79b81825"
   }
  }
 },
 "nbformat": 4,
 "nbformat_minor": 2
}
