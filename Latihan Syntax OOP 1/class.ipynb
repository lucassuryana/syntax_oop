{
 "cells": [
  {
   "cell_type": "code",
   "execution_count": 10,
   "metadata": {},
   "outputs": [],
   "source": [
    "class Shoes:\n",
    "    def __init__(self, shoes_color, shoes_size, shoes_style, shoes_price):\n",
    "        self.color = shoes_color\n",
    "        self.size = shoes_size\n",
    "        self.style = shoes_style\n",
    "        self.price = shoes_price\n",
    "\n",
    "    def change_price(self, new_price):\n",
    "        self.price = new_price\n",
    "\n",
    "    def discount(self, discount):\n",
    "        return self.price * (1 - discount)"
   ]
  },
  {
   "cell_type": "code",
   "execution_count": 11,
   "metadata": {},
   "outputs": [
    {
     "data": {
      "text/plain": [
       "<__main__.Shoes at 0x7fd8304abee0>"
      ]
     },
     "execution_count": 11,
     "metadata": {},
     "output_type": "execute_result"
    }
   ],
   "source": [
    "Shoes('black', 42, 'Adidas', 80)"
   ]
  },
  {
   "cell_type": "code",
   "execution_count": 12,
   "metadata": {},
   "outputs": [],
   "source": [
    "new_shoes = Shoes('black', 42, 'Adidas', 80)"
   ]
  },
  {
   "cell_type": "code",
   "execution_count": 13,
   "metadata": {},
   "outputs": [
    {
     "name": "stdout",
     "output_type": "stream",
     "text": [
      "black\n",
      "42\n",
      "Adidas\n",
      "80\n"
     ]
    }
   ],
   "source": [
    "print(new_shoes.color)\n",
    "print(new_shoes.size)\n",
    "print(new_shoes.style)\n",
    "print(new_shoes.price)"
   ]
  },
  {
   "cell_type": "code",
   "execution_count": 14,
   "metadata": {},
   "outputs": [
    {
     "name": "stdout",
     "output_type": "stream",
     "text": [
      "70\n"
     ]
    }
   ],
   "source": [
    "new_shoes.change_price(70)\n",
    "print(new_shoes.price)"
   ]
  },
  {
   "cell_type": "code",
   "execution_count": 15,
   "metadata": {},
   "outputs": [
    {
     "name": "stdout",
     "output_type": "stream",
     "text": [
      "56.0\n"
     ]
    }
   ],
   "source": [
    "print(new_shoes.discount(0.2))"
   ]
  },
  {
   "cell_type": "code",
   "execution_count": 16,
   "metadata": {},
   "outputs": [
    {
     "name": "stdout",
     "output_type": "stream",
     "text": [
      "black\n",
      "red\n",
      "green\n"
     ]
    }
   ],
   "source": [
    "shoes_collection = []\n",
    "shoes_one = Shoes('black', 42, 'Adidas', 80)\n",
    "shoes_two = Shoes('red', 41, 'Nike', 60)\n",
    "shoes_three = Shoes('green', 42, 'Nike', 65)\n",
    "\n",
    "shoes_collection.append(shoes_one)\n",
    "shoes_collection.append(shoes_two)\n",
    "shoes_collection.append(shoes_three)\n",
    "\n",
    "for i in range(0,len(shoes_collection)):\n",
    "    print(shoes_collection[i].color)"
   ]
  },
  {
   "cell_type": "code",
   "execution_count": null,
   "metadata": {},
   "outputs": [],
   "source": []
  }
 ],
 "metadata": {
  "kernelspec": {
   "display_name": "Python 3.9.12",
   "language": "python",
   "name": "python3"
  },
  "language_info": {
   "codemirror_mode": {
    "name": "ipython",
    "version": 3
   },
   "file_extension": ".py",
   "mimetype": "text/x-python",
   "name": "python",
   "nbconvert_exporter": "python",
   "pygments_lexer": "ipython3",
   "version": "3.9.12"
  },
  "vscode": {
   "interpreter": {
    "hash": "942f701b2df79ca4a1aae4324dbf019e14a586254b6da93e38e747ff79b81825"
   }
  }
 },
 "nbformat": 4,
 "nbformat_minor": 2
}
