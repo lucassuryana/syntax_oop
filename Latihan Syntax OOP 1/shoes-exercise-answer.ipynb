{
 "cells": [
  {
   "cell_type": "markdown",
   "metadata": {},
   "source": [
    "# Latihan Syntax OOP 1\n",
    "Isi setiap TODOs di setiap section di dalam Jupyter Notebook. Solusi dari latihan ini bisa dilihat di dalam answer.py"
   ]
  },
  {
   "cell_type": "code",
   "execution_count": null,
   "metadata": {},
   "outputs": [],
   "source": [
    "class Shoes:\n",
    "\n",
    "    def __init__(self, shirt_color, shirt_size, shirt_style, shirt_price):\n",
    "        self.color = shirt_color\n",
    "        self.size = shirt_size\n",
    "        self.style = shirt_style\n",
    "        self.price = shirt_price\n",
    "    \n",
    "    def change_price(self, new_price):\n",
    "    \n",
    "        self.price = new_price\n",
    "        \n",
    "    def discount(self, discount):\n",
    "\n",
    "        return self.price * (1 - discount)"
   ]
  },
  {
   "cell_type": "code",
   "execution_count": null,
   "metadata": {},
   "outputs": [],
   "source": [
    "### TODO:\n",
    "#    - Inisasi sebuah object sepatu dengan atribut sebagai berikut:\n",
    "#       - color merah, size 42, style Adidas, dan price 80\n",
    "#    - simpan object yang dibuat di dalam sebuah variable bernama shoes_one\n",
    "#\n",
    "#\n",
    "###\n",
    "shoes_one = Shoes('merah', 42, 'Adidas', 80)"
   ]
  },
  {
   "cell_type": "code",
   "execution_count": null,
   "metadata": {},
   "outputs": [],
   "source": [
    "### TODO:\n",
    "#     - print harga dari object shoes dengan menggunakan atribut price\n",
    "#     - gunakan method change_price untuk mengganti harga sepatu menjadi 70\n",
    "#     - print harga (price) sepatu yang baru dengan menggunakan atribut price\n",
    "#     - gunakan method discount untuk print harga sepatu jika diberi diskon 20%\n",
    "#\n",
    "###\n",
    "print(shoes_one.price)\n",
    "shoes_one.change_price(70)\n",
    "print(shoes_one.price)\n",
    "print(shoes_one.discount(.2))\n"
   ]
  },
  {
   "cell_type": "code",
   "execution_count": null,
   "metadata": {},
   "outputs": [],
   "source": [
    "### TODO:\n",
    "#    - inisialisasi object lain dengan karakteristik sebagai berikut:\n",
    "#       - color biru, size 41, style Nike, dan price 60\n",
    "#    - simpan object yang dibuat di dalam sebuah variable bernama shoes_two\n",
    "#\n",
    "###\n",
    "shoes_two = Shoes('biru', 41, 'Nike', 60)"
   ]
  },
  {
   "cell_type": "code",
   "execution_count": null,
   "metadata": {},
   "outputs": [],
   "source": [
    "### TODO:\n",
    "#    - hitung total harga dari shoes_one dan shoes_two\n",
    "#    - simpan hasil penjumlahan keduanya di dalam sebuah variabel bernama total\n",
    "#    \n",
    "###\n",
    "total = shoes_one.price + shoes_two.price"
   ]
  },
  {
   "cell_type": "code",
   "execution_count": null,
   "metadata": {},
   "outputs": [],
   "source": [
    "### TODO:\n",
    "#\n",
    "#    - gunakan method discount di dalam object shoes untuk menghitung total harga jika\n",
    "#       shoes_one memiliki diskon 10% dan shoes_two memiliki diskon 10%\n",
    "#    - simpan hasilnya di dalam sebuah variabel bernama total_discount\n",
    "###\n",
    "total_discount =  shoes_one.discount(.1) + shoes_two.discount(.1) "
   ]
  },
  {
   "cell_type": "markdown",
   "metadata": {},
   "source": [
    "# Test kode Anda\n",
    "\n",
    "Kode di bawah ini digunakan untuk menguji kode yang sudah Anda buat. Sebelum menjalankan run_tests, ada sebuah package yang perlu diimport bernama tests. Package ini merupakan sebuah file bernama tests.py yang berisikan sebuah function bernama run_tests(). Function ini akan mengeksekusi sekumpulan pernyataan assert untuk mengecek pekerjaan Anda. Jika hasil pekerjaan Anda sudah benar maka tidak akan muncul pesan error. Jika masih ada, berarti jawaban Anda masih ada yang salah. Perbaiki sampai tidak ada error lagi yang muncul."
   ]
  },
  {
   "cell_type": "code",
   "execution_count": null,
   "metadata": {},
   "outputs": [],
   "source": [
    "# Unit tests to check your solution\n",
    "from tests import run_tests\n",
    "\n",
    "run_tests(shoes_one, shoes_two, total, total_discount)"
   ]
  }
 ],
 "metadata": {
  "kernelspec": {
   "display_name": "Python 3",
   "language": "python",
   "name": "python3"
  },
  "language_info": {
   "codemirror_mode": {
    "name": "ipython",
    "version": 3
   },
   "file_extension": ".py",
   "mimetype": "text/x-python",
   "name": "python",
   "nbconvert_exporter": "python",
   "pygments_lexer": "ipython3",
   "version": "3.9.1"
  }
 },
 "nbformat": 4,
 "nbformat_minor": 2
}
