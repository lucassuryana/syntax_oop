{
 "cells": [
  {
   "cell_type": "markdown",
   "metadata": {},
   "source": [
    "# Shoes class\n",
    "\n",
    "Di dalam video \"#3 Syntax - OOP for Data Scientist [Bahasa Indonesia]\" kita sudah belajar bagaimana menginisasi sebuah object. Sekarang giliran kamu untuk melakukannya secara mandiri.\n",
    "\n",
    "# Penjelasan code\n",
    "Di dalam github ini terdapat dua buah folder yang berisikan latihan mandiri menggunakan syntax OOP, yakni folder \"Latihan Syntax OOP 1\" dan \"Latihan Syntax OOP 2\".\n",
    "Isi dari folder \"Latihan Syntax OOP 1\":\n",
    "- shoes_exercise.ipynb, berisikan file latihan yang perlu dikerjakan\n",
    "- answer.py jawaban dari latihan\n",
    "- tests.py, test untuk mengecek apakah code yang dibuat sudah benar atau masih ada yang salah\n",
    "\n",
    "Isi dari folder \"Latihan Syntax OOP 2\":\n",
    "[Akan diisi untuk video selanjutnya]\n",
    "\n",
    "# Tugas \"Latihan Syntax OOP 1\"\n",
    "File shoes_exercise.ipynb mempunyai petunjuk cara untuk membuat object Python. \n",
    "\n",
    "Isi setiap TODOs di setiap section di dalam Jupyter Notebook. Solusi dari latihan ini bisa dilihat di dalam answer.py"
   ]
  },
  {
   "cell_type": "code",
   "execution_count": null,
   "metadata": {},
   "outputs": [],
   "source": [
    "class Shoes:\n",
    "\n",
    "    def __init__(self, shirt_color, shirt_size, shirt_style, shirt_price):\n",
    "        self.color = shirt_color\n",
    "        self.size = shirt_size\n",
    "        self.style = shirt_style\n",
    "        self.price = shirt_price\n",
    "    \n",
    "    def change_price(self, new_price):\n",
    "    \n",
    "        self.price = new_price\n",
    "        \n",
    "    def discount(self, discount):\n",
    "\n",
    "        return self.price * (1 - discount)"
   ]
  },
  {
   "cell_type": "code",
   "execution_count": null,
   "metadata": {},
   "outputs": [],
   "source": [
    "### TODO:\n",
    "#    - Inisasi sebuah object sepatu dengan atribut sebagai berikut:\n",
    "#       - color merah, size 42, style Adidas, dan price 80\n",
    "#    - simpan object yang dibuat di dalam sebuah variable bernama shoes_one\n",
    "#\n",
    "#\n",
    "###\n",
    "shoes_one = Shoes('merah', 42, 'Adidas', 80)"
   ]
  },
  {
   "cell_type": "code",
   "execution_count": null,
   "metadata": {},
   "outputs": [],
   "source": [
    "### TODO:\n",
    "#     - print harga dari object shoes dengan menggunakan atribut price\n",
    "#     - gunakan method change_price untuk mengganti harga sepatu menjadi 70\n",
    "#     - print harga (price) sepatu yang baru dengan menggunakan atribut price\n",
    "#     - gunakan method discount untuk print harga sepatu jika diberi diskon 20%\n",
    "#\n",
    "###\n",
    "print(shoes_one.price)\n",
    "shoes_one.change_price(70)\n",
    "print(shoes_one.price)\n",
    "print(shoes_one.discount(.2))\n"
   ]
  },
  {
   "cell_type": "code",
   "execution_count": null,
   "metadata": {},
   "outputs": [],
   "source": [
    "### TODO:\n",
    "#    - inisialisasi object lain dengan karakteristik sebagai berikut:\n",
    "#       - color biru, size 41, style Nike, dan price 60\n",
    "#    - simpan object yang dibuat di dalam sebuah variable bernama shoes_two\n",
    "#\n",
    "###\n",
    "shoes_two = Shoes('biru', 41, 'Nike', 60)"
   ]
  },
  {
   "cell_type": "code",
   "execution_count": null,
   "metadata": {},
   "outputs": [],
   "source": [
    "### TODO:\n",
    "#    - hitung total harga dari shoes_one dan shoes_two\n",
    "#    - simpan hasil penjumlahan keduanya di dalam sebuah variabel bernama total\n",
    "#    \n",
    "###\n",
    "total = shoes_one.price + shoes_two.price"
   ]
  },
  {
   "cell_type": "code",
   "execution_count": null,
   "metadata": {},
   "outputs": [],
   "source": [
    "### TODO:\n",
    "#\n",
    "#    - gunakan method discount di dalam object shoes untuk menghitung total harga jika\n",
    "#       shoes_one memiliki diskon 10% dan shoes_two memiliki diskon 10%\n",
    "#    - simpan hasilnya di dalam sebuah variabel bernama total_discount\n",
    "###\n",
    "total_discount =  shoes_one.discount(.1) + shoes_two.discount(.1) "
   ]
  },
  {
   "cell_type": "markdown",
   "metadata": {},
   "source": [
    "# Test kode Anda\n",
    "\n",
    "Kode di bawah ini digunakan untuk men-test kode yang Anda buat.\n",
    "\n",
    "Kode di dalam cell di bawah ini akan melakukan hal tersebut.\n",
    "\n",
    "Ada sebuah file bernama test.py yang berisikan sebuah function bernama run_tests() yang akan mengeksekusi sekumpulan pernyataan assert untuk mengecek pekerjaan Anda. \n",
    "\n",
    "Jalankan kode di cell di bawah ini. Jika hasilnya error berarti kode yang Anda buat masih salah. Betulkan sampai tidak ada error lagi.\n",
    "\n",
    "Solusi dari latihan ini ada di dalam file answer.py"
   ]
  },
  {
   "cell_type": "code",
   "execution_count": null,
   "metadata": {},
   "outputs": [],
   "source": [
    "# Unit tests to check your solution\n",
    "from tests import run_tests\n",
    "\n",
    "run_tests(shoes_one, shoes_two, total, total_discount)"
   ]
  }
 ],
 "metadata": {
  "kernelspec": {
   "display_name": "Python 3",
   "language": "python",
   "name": "python3"
  },
  "language_info": {
   "codemirror_mode": {
    "name": "ipython",
    "version": 3
   },
   "file_extension": ".py",
   "mimetype": "text/x-python",
   "name": "python",
   "nbconvert_exporter": "python",
   "pygments_lexer": "ipython3",
   "version": "3.9.1"
  }
 },
 "nbformat": 4,
 "nbformat_minor": 2
}
