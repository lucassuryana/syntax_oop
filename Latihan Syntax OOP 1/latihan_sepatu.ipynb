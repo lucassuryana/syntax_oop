{
 "cells": [
  {
   "cell_type": "markdown",
   "metadata": {},
   "source": [
    "# Latihan Syntax OOP 1\n",
    "Isi setiap TODOs di setiap section di dalam Jupyter Notebook. Solusi dari latihan ini bisa dilihat di dalam jawaban_latihan_sepatu.ipynb"
   ]
  },
  {
   "cell_type": "code",
   "execution_count": null,
   "metadata": {},
   "outputs": [],
   "source": [
    "class Sepatu:\n",
    "\n",
    "    def __init__(self, warna_sepatu, ukuran_sepatu, merk_sepatu, harga_sepatu):\n",
    "        self.warna = warna_sepatu\n",
    "        self.ukuran = ukuran_sepatu\n",
    "        self.merk = merk_sepatu\n",
    "        self.harga = harga_sepatu\n",
    "    \n",
    "    def change_price(self, new_price):\n",
    "    \n",
    "        self.harga = new_price\n",
    "        \n",
    "    def discount(self, discount):\n",
    "\n",
    "        return self.harga * (1 - discount)"
   ]
  },
  {
   "cell_type": "code",
   "execution_count": null,
   "metadata": {},
   "outputs": [],
   "source": [
    "### TODO:\n",
    "#    - Inisasi sebuah object sepatu dengan attributes sebagai berikut:\n",
    "#       - warna merah, ukuran 42, merk Adidas, dan harga 800000\n",
    "#    - simpan object yang dibuat di dalam sebuah variable bernama sepatu_satu\n",
    "#\n",
    "#\n",
    "###"
   ]
  },
  {
   "cell_type": "code",
   "execution_count": null,
   "metadata": {},
   "outputs": [],
   "source": [
    "### TODO:\n",
    "#     - print harga dari object Sepatu dengan menggunakan harga attributes\n",
    "#     - gunakan method change_price untuk mengganti harga sepatu menjadi 700000\n",
    "#     - print harga (harga) sepatu yang baru dengan menggunakan harga attributes\n",
    "#     - gunakan method discount untuk print harga sepatu jika diberi diskon 20%\n",
    "#\n",
    "###"
   ]
  },
  {
   "cell_type": "code",
   "execution_count": null,
   "metadata": {},
   "outputs": [],
   "source": [
    "### TODO:\n",
    "#    - inisialisasi object lain dengan attributes sebagai berikut:\n",
    "#       - warna biru, ukuran 41, merk Nike, dan harga 600000\n",
    "#    - simpan object yang dibuat di dalam sebuah variable bernama sepatu_dua\n",
    "#\n",
    "###"
   ]
  },
  {
   "cell_type": "code",
   "execution_count": null,
   "metadata": {},
   "outputs": [],
   "source": [
    "### TODO:\n",
    "#    - hitung total harga dari sepatu_satu dan sepatu_dua\n",
    "#    - simpan hasil penjumlahan keduanya di dalam sebuah variabel bernama total\n",
    "#    \n",
    "###"
   ]
  },
  {
   "cell_type": "code",
   "execution_count": null,
   "metadata": {},
   "outputs": [],
   "source": [
    "### TODO:\n",
    "#    - gunakan method discount di dalam object Sepatu untuk menghitung total harga jika\n",
    "#       sepatu_satu memiliki diskon 10% dan sepatu_dua memiliki diskon 10%\n",
    "#    - simpan hasilnya di dalam sebuah variabel bernama total_discount\n",
    "###"
   ]
  },
  {
   "cell_type": "markdown",
   "metadata": {},
   "source": [
    "# Test kode Anda\n",
    "\n",
    "Kode di bawah ini digunakan untuk menguji kode yang sudah Anda buat. Sebelum menjalankan run_tests(), ada sebuah package yang perlu diimport bernama tests. Package ini merupakan sebuah file bernama tests.py yang berisikan sebuah function bernama run_tests(). Function ini akan mengeksekusi sekumpulan pernyataan assert untuk mengecek pekerjaan Anda. Jika hasil pekerjaan Anda sudah benar maka tidak akan muncul pesan error. Jika masih ada, berarti jawaban Anda masih ada yang salah. Perbaiki sampai tidak ada error lagi yang muncul."
   ]
  },
  {
   "cell_type": "code",
   "execution_count": null,
   "metadata": {},
   "outputs": [],
   "source": [
    "# Unit tests to check your solution\n",
    "from tests import run_tests\n",
    "\n",
    "run_tests(sepatu_satu, sepatu_dua, total, total_discount)"
   ]
  }
 ],
 "metadata": {
  "kernelspec": {
   "display_name": "Python 3",
   "language": "python",
   "name": "python3"
  },
  "language_info": {
   "codemirror_mode": {
    "name": "ipython",
    "version": 3
   },
   "file_extension": ".py",
   "mimetype": "text/x-python",
   "name": "python",
   "nbconvert_exporter": "python",
   "pygments_lexer": "ipython3",
   "version": "3.9.1"
  }
 },
 "nbformat": 4,
 "nbformat_minor": 2
}
